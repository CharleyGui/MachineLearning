{
 "cells": [
  {
   "cell_type": "code",
   "execution_count": 52,
   "metadata": {},
   "outputs": [
    {
     "name": "stdout",
     "output_type": "stream",
     "text": [
      "1.10.0\n"
     ]
    }
   ],
   "source": [
    "import tensorflow as tf\n",
    "from tensorflow import keras\n",
    "print(tf.__version__)"
   ]
  },
  {
   "cell_type": "code",
   "execution_count": 53,
   "metadata": {},
   "outputs": [],
   "source": [
    "imdb= keras.datasets.imdb"
   ]
  },
  {
   "cell_type": "code",
   "execution_count": 54,
   "metadata": {},
   "outputs": [],
   "source": [
    "(train_data, train_labels),(test_data, test_labels) = imdb.load_data(num_words=10000)"
   ]
  },
  {
   "cell_type": "code",
   "execution_count": 55,
   "metadata": {},
   "outputs": [
    {
     "name": "stdout",
     "output_type": "stream",
     "text": [
      "Shape of training data : (25000,), test data : (25000,)\n"
     ]
    }
   ],
   "source": [
    "print(\"Shape of training data : {}, test data : {}\".format(train_data.shape,test_data.shape))"
   ]
  },
  {
   "cell_type": "code",
   "execution_count": 56,
   "metadata": {},
   "outputs": [
    {
     "name": "stdout",
     "output_type": "stream",
     "text": [
      "training entries: 25000 & labels: 25000\n"
     ]
    }
   ],
   "source": [
    "print(\"training entries: {} & labels: {}\".format(len(train_data),len(train_labels)))"
   ]
  },
  {
   "cell_type": "code",
   "execution_count": 57,
   "metadata": {},
   "outputs": [
    {
     "name": "stdout",
     "output_type": "stream",
     "text": [
      "[1, 14, 22, 16, 43, 530, 973, 1622, 1385, 65, 458, 4468, 66, 3941, 4, 173, 36, 256, 5, 25, 100, 43, 838, 112, 50, 670, 2, 9, 35, 480, 284, 5, 150, 4, 172, 112, 167, 2, 336, 385, 39, 4, 172, 4536, 1111, 17, 546, 38, 13, 447, 4, 192, 50, 16, 6, 147, 2025, 19, 14, 22, 4, 1920, 4613, 469, 4, 22, 71, 87, 12, 16, 43, 530, 38, 76, 15, 13, 1247, 4, 22, 17, 515, 17, 12, 16, 626, 18, 2, 5, 62, 386, 12, 8, 316, 8, 106, 5, 4, 2223, 5244, 16, 480, 66, 3785, 33, 4, 130, 12, 16, 38, 619, 5, 25, 124, 51, 36, 135, 48, 25, 1415, 33, 6, 22, 12, 215, 28, 77, 52, 5, 14, 407, 16, 82, 2, 8, 4, 107, 117, 5952, 15, 256, 4, 2, 7, 3766, 5, 723, 36, 71, 43, 530, 476, 26, 400, 317, 46, 7, 4, 2, 1029, 13, 104, 88, 4, 381, 15, 297, 98, 32, 2071, 56, 26, 141, 6, 194, 7486, 18, 4, 226, 22, 21, 134, 476, 26, 480, 5, 144, 30, 5535, 18, 51, 36, 28, 224, 92, 25, 104, 4, 226, 65, 16, 38, 1334, 88, 12, 16, 283, 5, 16, 4472, 113, 103, 32, 15, 16, 5345, 19, 178, 32]\n"
     ]
    }
   ],
   "source": [
    "print(train_data[0])"
   ]
  },
  {
   "cell_type": "code",
   "execution_count": 58,
   "metadata": {},
   "outputs": [
    {
     "data": {
      "text/plain": [
       "(218, 189)"
      ]
     },
     "execution_count": 58,
     "metadata": {},
     "output_type": "execute_result"
    }
   ],
   "source": [
    "len(train_data[0]), len(train_data[1])"
   ]
  },
  {
   "cell_type": "code",
   "execution_count": 59,
   "metadata": {},
   "outputs": [],
   "source": [
    "word_index = imdb.get_word_index()\n",
    "word_index = {k:(v+3) for k,v in word_index.items()} \n",
    "word_index[\"<PAD>\"] = 0\n",
    "word_index[\"<START>\"] = 1\n",
    "word_index[\"<UNK>\"] = 2  # unknown\n",
    "word_index[\"<UNUSED>\"] = 3\n",
    "\n",
    "reverse_word_index = dict([(value, key) for (key, value) in word_index.items()])\n",
    "\n",
    "def decode_review(text):\n",
    "    return ' '.join([reverse_word_index.get(i, '?') for i in text])"
   ]
  },
  {
   "cell_type": "code",
   "execution_count": 60,
   "metadata": {},
   "outputs": [
    {
     "data": {
      "text/plain": [
       "\"<START> this film was just brilliant casting location scenery story direction everyone's really suited the part they played and you could just imagine being there robert <UNK> is an amazing actor and now the same being director <UNK> father came from the same scottish island as myself so i loved the fact there was a real connection with this film the witty remarks throughout the film were great it was just brilliant so much that i bought the film as soon as it was released for <UNK> and would recommend it to everyone to watch and the fly fishing was amazing really cried at the end it was so sad and you know what they say if you cry at a film it must have been good and this definitely was also <UNK> to the two little boy's that played the <UNK> of norman and paul they were just brilliant children are often left out of the <UNK> list i think because the stars that play them all grown up are such a big profile for the whole film but these children are amazing and should be praised for what they have done don't you think the whole story was so lovely because it was true and was someone's life after all that was shared with us all\""
      ]
     },
     "execution_count": 60,
     "metadata": {},
     "output_type": "execute_result"
    }
   ],
   "source": [
    "decode_review(train_data[0])"
   ]
  },
  {
   "cell_type": "code",
   "execution_count": 61,
   "metadata": {},
   "outputs": [],
   "source": [
    "train_data = keras.preprocessing.sequence.pad_sequences(train_data,value=word_index[\"<PAD>\"],padding='post',maxlen=256)"
   ]
  },
  {
   "cell_type": "code",
   "execution_count": 62,
   "metadata": {},
   "outputs": [],
   "source": [
    "test_data = keras.preprocessing.sequence.pad_sequences(test_data,value=word_index[\"<PAD>\"],padding='post',maxlen=256)"
   ]
  },
  {
   "cell_type": "code",
   "execution_count": 63,
   "metadata": {},
   "outputs": [
    {
     "data": {
      "text/plain": [
       "(256, 256)"
      ]
     },
     "execution_count": 63,
     "metadata": {},
     "output_type": "execute_result"
    }
   ],
   "source": [
    "len(train_data[0]), len(train_data[1])"
   ]
  },
  {
   "cell_type": "code",
   "execution_count": 64,
   "metadata": {},
   "outputs": [
    {
     "name": "stdout",
     "output_type": "stream",
     "text": [
      "[   1   14   22   16   43  530  973 1622 1385   65  458 4468   66 3941\n",
      "    4  173   36  256    5   25  100   43  838  112   50  670    2    9\n",
      "   35  480  284    5  150    4  172  112  167    2  336  385   39    4\n",
      "  172 4536 1111   17  546   38   13  447    4  192   50   16    6  147\n",
      " 2025   19   14   22    4 1920 4613  469    4   22   71   87   12   16\n",
      "   43  530   38   76   15   13 1247    4   22   17  515   17   12   16\n",
      "  626   18    2    5   62  386   12    8  316    8  106    5    4 2223\n",
      " 5244   16  480   66 3785   33    4  130   12   16   38  619    5   25\n",
      "  124   51   36  135   48   25 1415   33    6   22   12  215   28   77\n",
      "   52    5   14  407   16   82    2    8    4  107  117 5952   15  256\n",
      "    4    2    7 3766    5  723   36   71   43  530  476   26  400  317\n",
      "   46    7    4    2 1029   13  104   88    4  381   15  297   98   32\n",
      " 2071   56   26  141    6  194 7486   18    4  226   22   21  134  476\n",
      "   26  480    5  144   30 5535   18   51   36   28  224   92   25  104\n",
      "    4  226   65   16   38 1334   88   12   16  283    5   16 4472  113\n",
      "  103   32   15   16 5345   19  178   32    0    0    0    0    0    0\n",
      "    0    0    0    0    0    0    0    0    0    0    0    0    0    0\n",
      "    0    0    0    0    0    0    0    0    0    0    0    0    0    0\n",
      "    0    0    0    0]\n"
     ]
    }
   ],
   "source": [
    "print(train_data[0])\n"
   ]
  },
  {
   "cell_type": "code",
   "execution_count": 65,
   "metadata": {},
   "outputs": [
    {
     "name": "stdout",
     "output_type": "stream",
     "text": [
      "_________________________________________________________________\n",
      "Layer (type)                 Output Shape              Param #   \n",
      "=================================================================\n",
      "embedding_2 (Embedding)      (None, None, 16)          160000    \n",
      "_________________________________________________________________\n",
      "global_average_pooling1d_2 ( (None, 16)                0         \n",
      "_________________________________________________________________\n",
      "dense_4 (Dense)              (None, 16)                272       \n",
      "_________________________________________________________________\n",
      "dense_5 (Dense)              (None, 1)                 17        \n",
      "=================================================================\n",
      "Total params: 160,289\n",
      "Trainable params: 160,289\n",
      "Non-trainable params: 0\n",
      "_________________________________________________________________\n"
     ]
    }
   ],
   "source": [
    "vocab_size = 10000\n",
    "\n",
    "model= keras.Sequential()\n",
    "model.add(keras.layers.Embedding(vocab_size,16))\n",
    "model.add(keras.layers.GlobalAveragePooling1D())\n",
    "model.add(keras.layers.Dense(16, activation=tf.nn.relu))\n",
    "model.add(keras.layers.Dense(1,activation=tf.nn.sigmoid))\n",
    "\n",
    "model.summary()"
   ]
  },
  {
   "cell_type": "code",
   "execution_count": 66,
   "metadata": {},
   "outputs": [],
   "source": [
    "model.compile(optimizer=tf.train.AdamOptimizer(),loss='binary_crossentropy',metrics=['accuracy'])"
   ]
  },
  {
   "cell_type": "code",
   "execution_count": 67,
   "metadata": {},
   "outputs": [],
   "source": [
    "x_val = train_data[:10000]\n",
    "partial_train_data=train_data[10000:]\n",
    "y_val = train_labels[:10000]\n",
    "partial_train_labels = train_labels[10000:]"
   ]
  },
  {
   "cell_type": "code",
   "execution_count": 68,
   "metadata": {},
   "outputs": [
    {
     "name": "stdout",
     "output_type": "stream",
     "text": [
      "Train on 15000 samples, validate on 10000 samples\n",
      "Epoch 1/40\n",
      "15000/15000 [==============================] - 1s 95us/step - loss: 0.7456 - acc: 0.4965 - val_loss: 0.7026 - val_acc: 0.5053\n",
      "Epoch 2/40\n",
      "15000/15000 [==============================] - 1s 70us/step - loss: 0.6966 - acc: 0.5002 - val_loss: 0.6926 - val_acc: 0.5126\n",
      "Epoch 3/40\n",
      "15000/15000 [==============================] - 1s 68us/step - loss: 0.6917 - acc: 0.5169 - val_loss: 0.6914 - val_acc: 0.5193\n",
      "Epoch 4/40\n",
      "15000/15000 [==============================] - 1s 66us/step - loss: 0.6900 - acc: 0.5265 - val_loss: 0.6894 - val_acc: 0.5331\n",
      "Epoch 5/40\n",
      "15000/15000 [==============================] - 1s 64us/step - loss: 0.6878 - acc: 0.5463 - val_loss: 0.6875 - val_acc: 0.5587\n",
      "Epoch 6/40\n",
      "15000/15000 [==============================] - 1s 66us/step - loss: 0.6855 - acc: 0.6040 - val_loss: 0.6850 - val_acc: 0.6248\n",
      "Epoch 7/40\n",
      "15000/15000 [==============================] - 1s 66us/step - loss: 0.6826 - acc: 0.6755 - val_loss: 0.6824 - val_acc: 0.6667\n",
      "Epoch 8/40\n",
      "15000/15000 [==============================] - 1s 66us/step - loss: 0.6793 - acc: 0.7194 - val_loss: 0.6789 - val_acc: 0.7146\n",
      "Epoch 9/40\n",
      "15000/15000 [==============================] - 1s 78us/step - loss: 0.6750 - acc: 0.7689 - val_loss: 0.6746 - val_acc: 0.7529\n",
      "Epoch 10/40\n",
      "15000/15000 [==============================] - 1s 76us/step - loss: 0.6696 - acc: 0.7801 - val_loss: 0.6688 - val_acc: 0.7779\n",
      "Epoch 11/40\n",
      "15000/15000 [==============================] - 1s 72us/step - loss: 0.6628 - acc: 0.7841 - val_loss: 0.6617 - val_acc: 0.7733\n",
      "Epoch 12/40\n",
      "15000/15000 [==============================] - 1s 68us/step - loss: 0.6538 - acc: 0.8012 - val_loss: 0.6528 - val_acc: 0.7826\n",
      "Epoch 13/40\n",
      "15000/15000 [==============================] - 1s 70us/step - loss: 0.6428 - acc: 0.7921 - val_loss: 0.6430 - val_acc: 0.7620\n",
      "Epoch 14/40\n",
      "15000/15000 [==============================] - 1s 73us/step - loss: 0.6296 - acc: 0.8023 - val_loss: 0.6290 - val_acc: 0.7849\n",
      "Epoch 15/40\n",
      "15000/15000 [==============================] - 1s 68us/step - loss: 0.6135 - acc: 0.8050 - val_loss: 0.6129 - val_acc: 0.7886\n",
      "Epoch 16/40\n",
      "15000/15000 [==============================] - 1s 71us/step - loss: 0.5951 - acc: 0.8101 - val_loss: 0.5952 - val_acc: 0.7911\n",
      "Epoch 17/40\n",
      "15000/15000 [==============================] - 1s 68us/step - loss: 0.5740 - acc: 0.8171 - val_loss: 0.5760 - val_acc: 0.7986\n",
      "Epoch 18/40\n",
      "15000/15000 [==============================] - 1s 81us/step - loss: 0.5514 - acc: 0.8249 - val_loss: 0.5547 - val_acc: 0.8039\n",
      "Epoch 19/40\n",
      "15000/15000 [==============================] - 1s 90us/step - loss: 0.5273 - acc: 0.8281 - val_loss: 0.5327 - val_acc: 0.8108\n",
      "Epoch 20/40\n",
      "15000/15000 [==============================] - 1s 79us/step - loss: 0.5029 - acc: 0.8367 - val_loss: 0.5106 - val_acc: 0.8153\n",
      "Epoch 21/40\n",
      "15000/15000 [==============================] - 1s 68us/step - loss: 0.4780 - acc: 0.8441 - val_loss: 0.4887 - val_acc: 0.8239\n",
      "Epoch 22/40\n",
      "15000/15000 [==============================] - 1s 80us/step - loss: 0.4539 - acc: 0.8521 - val_loss: 0.4676 - val_acc: 0.8307\n",
      "Epoch 23/40\n",
      "15000/15000 [==============================] - 1s 82us/step - loss: 0.4310 - acc: 0.8591 - val_loss: 0.4478 - val_acc: 0.8369\n",
      "Epoch 24/40\n",
      "15000/15000 [==============================] - 1s 82us/step - loss: 0.4089 - acc: 0.8659 - val_loss: 0.4293 - val_acc: 0.8437\n",
      "Epoch 25/40\n",
      "15000/15000 [==============================] - 1s 67us/step - loss: 0.3887 - acc: 0.8738 - val_loss: 0.4127 - val_acc: 0.8484\n",
      "Epoch 26/40\n",
      "15000/15000 [==============================] - 1s 69us/step - loss: 0.3703 - acc: 0.8777 - val_loss: 0.3975 - val_acc: 0.8524\n",
      "Epoch 27/40\n",
      "15000/15000 [==============================] - 1s 65us/step - loss: 0.3536 - acc: 0.8818 - val_loss: 0.3841 - val_acc: 0.8570\n",
      "Epoch 28/40\n",
      "15000/15000 [==============================] - 1s 67us/step - loss: 0.3384 - acc: 0.8871 - val_loss: 0.3727 - val_acc: 0.8610\n",
      "Epoch 29/40\n",
      "15000/15000 [==============================] - 1s 71us/step - loss: 0.3249 - acc: 0.8898 - val_loss: 0.3625 - val_acc: 0.8630\n",
      "Epoch 30/40\n",
      "15000/15000 [==============================] - 1s 74us/step - loss: 0.3130 - acc: 0.8934 - val_loss: 0.3537 - val_acc: 0.8659\n",
      "Epoch 31/40\n",
      "15000/15000 [==============================] - 1s 74us/step - loss: 0.3015 - acc: 0.8963 - val_loss: 0.3459 - val_acc: 0.8684\n",
      "Epoch 32/40\n",
      "15000/15000 [==============================] - 2s 105us/step - loss: 0.2918 - acc: 0.8988 - val_loss: 0.3392 - val_acc: 0.8704\n",
      "Epoch 33/40\n",
      "15000/15000 [==============================] - 1s 96us/step - loss: 0.2823 - acc: 0.9009 - val_loss: 0.3335 - val_acc: 0.8716\n",
      "Epoch 34/40\n",
      "15000/15000 [==============================] - 1s 94us/step - loss: 0.2736 - acc: 0.9055 - val_loss: 0.3279 - val_acc: 0.8743\n",
      "Epoch 35/40\n",
      "15000/15000 [==============================] - 1s 73us/step - loss: 0.2659 - acc: 0.9063 - val_loss: 0.3231 - val_acc: 0.8750\n",
      "Epoch 36/40\n",
      "15000/15000 [==============================] - 1s 78us/step - loss: 0.2581 - acc: 0.9099 - val_loss: 0.3190 - val_acc: 0.8751\n",
      "Epoch 37/40\n",
      "15000/15000 [==============================] - 1s 71us/step - loss: 0.2513 - acc: 0.9119 - val_loss: 0.3157 - val_acc: 0.8760\n",
      "Epoch 38/40\n",
      "15000/15000 [==============================] - 1s 83us/step - loss: 0.2447 - acc: 0.9139 - val_loss: 0.3116 - val_acc: 0.8776\n",
      "Epoch 39/40\n",
      "15000/15000 [==============================] - 1s 79us/step - loss: 0.2382 - acc: 0.9164 - val_loss: 0.3087 - val_acc: 0.8784\n",
      "Epoch 40/40\n",
      "15000/15000 [==============================] - 1s 76us/step - loss: 0.2323 - acc: 0.9176 - val_loss: 0.3056 - val_acc: 0.8791\n"
     ]
    }
   ],
   "source": [
    "history = model.fit(partial_train_data, partial_train_labels,epochs=40,batch_size=512,validation_data=(x_val, y_val),verbose=1)"
   ]
  },
  {
   "cell_type": "code",
   "execution_count": 69,
   "metadata": {},
   "outputs": [
    {
     "name": "stdout",
     "output_type": "stream",
     "text": [
      "25000/25000 [==============================] - 1s 22us/step\n"
     ]
    }
   ],
   "source": [
    "results = model.evaluate(test_data, test_labels)"
   ]
  },
  {
   "cell_type": "code",
   "execution_count": 70,
   "metadata": {},
   "outputs": [
    {
     "name": "stdout",
     "output_type": "stream",
     "text": [
      "[0.31868046474456785, 0.86864]\n"
     ]
    }
   ],
   "source": [
    "print(results)"
   ]
  },
  {
   "cell_type": "code",
   "execution_count": 71,
   "metadata": {},
   "outputs": [
    {
     "data": {
      "text/plain": [
       "dict_keys(['val_loss', 'val_acc', 'loss', 'acc'])"
      ]
     },
     "execution_count": 71,
     "metadata": {},
     "output_type": "execute_result"
    }
   ],
   "source": [
    "history_dict = history.history\n",
    "history_dict.keys()"
   ]
  },
  {
   "cell_type": "code",
   "execution_count": 72,
   "metadata": {},
   "outputs": [],
   "source": [
    "import matplotlib.pyplot as plt"
   ]
  },
  {
   "cell_type": "code",
   "execution_count": 73,
   "metadata": {},
   "outputs": [],
   "source": [
    "acc = history.history['acc']\n",
    "loss = history.history['loss']\n",
    "val_acc = history.history['val_acc']\n",
    "val_loss = history.history['val_loss']"
   ]
  },
  {
   "cell_type": "code",
   "execution_count": 74,
   "metadata": {},
   "outputs": [],
   "source": [
    "epochs = range(1,len(acc)+1)\n"
   ]
  },
  {
   "cell_type": "code",
   "execution_count": 75,
   "metadata": {
    "scrolled": true
   },
   "outputs": [
    {
     "data": {
      "image/png": "[encoded data removed]",
      "text/plain": [
       "<Figure size 432x288 with 1 Axes>"
      ]
     },
     "metadata": {
      "needs_background": "light"
     },
     "output_type": "display_data"
    }
   ],
   "source": [
    "plt.plot(epochs, loss,'bo',label='Training loss')\n",
    "plt.plot(epochs, val_loss,'b',label='Validation loss')\n",
    "plt.title('Training and validation loss')\n",
    "plt.xlabel('Epochs')\n",
    "plt.ylabel('Loss')\n",
    "plt.legend()\n",
    "plt.show()"
   ]
  },
  {
   "cell_type": "code",
   "execution_count": 76,
   "metadata": {},
   "outputs": [
    {
     "data": {
      "image/png": "[encoded data removed]",
      "text/plain": [
       "<Figure size 432x288 with 1 Axes>"
      ]
     },
     "metadata": {
      "needs_background": "light"
     },
     "output_type": "display_data"
    }
   ],
   "source": [
    "plt.clf()\n",
    "\n",
    "plt.plot(epochs, acc, 'bo', label='Training acc')\n",
    "plt.plot(epochs, val_acc, 'b', label='Validation acc')\n",
    "plt.title('Training and validation accuracy')\n",
    "plt.xlabel('Epochs')\n",
    "plt.ylabel('Accuracy')\n",
    "plt.legend()\n",
    "\n",
    "plt.show()\n"
   ]
  },
  {
   "cell_type": "code",
   "execution_count": null,
   "metadata": {},
   "outputs": [],
   "source": []
  }
 ],
 "metadata": {
  "kernelspec": {
   "display_name": "Python 3",
   "language": "python",
   "name": "python3"
  },
  "language_info": {
   "codemirror_mode": {
    "name": "ipython",
    "version": 3
   },
   "file_extension": ".py",
   "mimetype": "text/x-python",
   "name": "python",
   "nbconvert_exporter": "python",
   "pygments_lexer": "ipython3",
   "version": "3.6.7"
  }
 },
 "nbformat": 4,
 "nbformat_minor": 2
}
